{
 "cells": [
  {
   "cell_type": "markdown",
   "metadata": {},
   "source": [
    "## 2. Add Two Numbers https://leetcode.com/problems/two-sum/"
   ]
  },
  {
   "cell_type": "code",
   "execution_count": 1,
   "metadata": {},
   "outputs": [],
   "source": [
    "# Definition for singly-linked list.\n",
    "class ListNode:\n",
    "    def __init__(self, x):\n",
    "        self.val = x\n",
    "        self.next = None\n",
    "\n",
    "class Solution:\n",
    "    def addTwoNumbers(self, l1: ListNode, l2: ListNode) -> ListNode:\n",
    "        l1_trace = l1\n",
    "        l2_trace = l2\n",
    "        while l1_trace and l2_trace:\n",
    "            l1_trace = l1_trace.next\n",
    "            l2_trace = l2_trace.next\n",
    "        longer,shorter = l2,l1\n",
    "        if l1_trace:\n",
    "            longer,shorter = l1,l2\n",
    "        floor = 0\n",
    "        result = longer\n",
    "        while  shorter.next:\n",
    "            add_sum = longer.val+shorter.val+floor\n",
    "            longer.val = add_sum % 10\n",
    "            floor = add_sum//10\n",
    "            longer = longer.next\n",
    "            shorter = shorter.next\n",
    "        add_sum = longer.val+shorter.val+floor\n",
    "        longer.val = add_sum % 10\n",
    "        floor = add_sum//10\n",
    "        while floor != 0:\n",
    "            if not longer.next:\n",
    "                longer.next = ListNode(floor)\n",
    "                floor = 0\n",
    "            else:\n",
    "                add_sum = longer.next.val + floor\n",
    "                longer.next.val = add_sum % 10\n",
    "                floor = add_sum //10\n",
    "                longer = longer.next\n",
    "        return result"
   ]
  },
  {
   "cell_type": "markdown",
   "metadata": {},
   "source": [
    "### 7. Reverse Integer"
   ]
  },
  {
   "cell_type": "code",
   "execution_count": null,
   "metadata": {},
   "outputs": [],
   "source": [
    "class Solution:\n",
    "    def reverse(self, x: int) -> int:\n",
    "        result = 0\n",
    "        str_x = str(x)\n",
    "        if x < 0:\n",
    "            str_x= str_x[1:]\n",
    "        for i in range(len(str_x)):\n",
    "            result += int(str_x[i])*(10**(i))\n",
    "        if result > 2**31:\n",
    "            return 0\n",
    "        if x<0:      \n",
    "            result *= -1\n",
    "        return result"
   ]
  },
  {
   "cell_type": "markdown",
   "metadata": {},
   "source": [
    "### 9. Palindrome Number https://leetcode-cn.com/problems/palindrome-number"
   ]
  },
  {
   "cell_type": "code",
   "execution_count": null,
   "metadata": {},
   "outputs": [],
   "source": [
    "class Solution:\n",
    "    def isPalindrome(self, x: int) -> bool:\n",
    "        str_x = str(x)\n",
    "        if x<0:\n",
    "            return False\n",
    "        if len(str_x)%2 == 0:\n",
    "            return str_x[:len(str_x)//2] == str_x[len(str_x)//2:][::-1]\n",
    "        else:\n",
    "            return str_x[:len(str_x)//2] == str_x[len(str_x)//2+1:][::-1]\n",
    "        "
   ]
  },
  {
   "cell_type": "markdown",
   "metadata": {},
   "source": [
    "### 14. Longest Common Prefix https://leetcode-cn.com/problems/longest-common-prefix"
   ]
  },
  {
   "cell_type": "code",
   "execution_count": null,
   "metadata": {},
   "outputs": [],
   "source": [
    "# simple iteration - less space more runtime\n",
    "class Solution:\n",
    "    def longestCommonPrefix(self, strs: List[str]) -> str:\n",
    "        if strs == []:\n",
    "            return ''\n",
    "        common = strs[0]\n",
    "        if len(strs) == 1:\n",
    "            return common\n",
    "        for word_i in range(len(strs)):\n",
    "            common = self.compareTwoStrs(common, strs[word_i])\n",
    "            if common == \"\":\n",
    "                return \"\"\n",
    "        return common\n",
    "            \n",
    "    def compareTwoStrs(self, s1, s2):\n",
    "        common = ''\n",
    "        for i in range(len(s1)):\n",
    "            if i>=len(s2):\n",
    "                return common\n",
    "            if s1[i] == s2[i]:\n",
    "                common += s1[i]\n",
    "            else: \n",
    "                return common\n",
    "        return common"
   ]
  },
  {
   "cell_type": "code",
   "execution_count": null,
   "metadata": {},
   "outputs": [],
   "source": [
    "# tree structure search using recusion - less runtime more space\n",
    "class Solution:\n",
    "    def longestCommonPrefix(self, strs: List[str]) -> str:\n",
    "        if len(strs) == 0:\n",
    "            return ''\n",
    "        common = strs[0]\n",
    "        if len(strs) == 1:\n",
    "            return common\n",
    "        if len(strs) == 2:\n",
    "            return self.compareTwoStrs(strs[0], strs[1])\n",
    "        else:\n",
    "            return self.longestCommonPrefix(strs[2:] + [self.compareTwoStrs(strs[0],strs[1])])\n",
    "            \n",
    "    def compareTwoStrs(self, s1, s2):\n",
    "        common = ''\n",
    "        for i in range(len(s1)):\n",
    "            if i>=len(s2):\n",
    "                return common\n",
    "            if s1[i] == s2[i]:\n",
    "                common += s1[i]\n",
    "            else: \n",
    "                return common\n",
    "        return common"
   ]
  }
 ],
 "metadata": {
  "kernelspec": {
   "display_name": "Python 3",
   "language": "python",
   "name": "python3"
  },
  "language_info": {
   "codemirror_mode": {
    "name": "ipython",
    "version": 3
   },
   "file_extension": ".py",
   "mimetype": "text/x-python",
   "name": "python",
   "nbconvert_exporter": "python",
   "pygments_lexer": "ipython3",
   "version": "3.7.1"
  }
 },
 "nbformat": 4,
 "nbformat_minor": 2
}
