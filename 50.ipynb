{
 "cells": [
  {
   "cell_type": "markdown",
   "metadata": {},
   "source": [
    "## 2. Add Two Numbers https://leetcode.com/problems/two-sum/"
   ]
  },
  {
   "cell_type": "code",
   "execution_count": 1,
   "metadata": {},
   "outputs": [],
   "source": [
    "# Definition for singly-linked list.\n",
    "class ListNode:\n",
    "    def __init__(self, x):\n",
    "        self.val = x\n",
    "        self.next = None\n",
    "\n",
    "class Solution:\n",
    "    def addTwoNumbers(self, l1: ListNode, l2: ListNode) -> ListNode:\n",
    "        l1_trace = l1\n",
    "        l2_trace = l2\n",
    "        while l1_trace and l2_trace:\n",
    "            l1_trace = l1_trace.next\n",
    "            l2_trace = l2_trace.next\n",
    "        longer,shorter = l2,l1\n",
    "        if l1_trace:\n",
    "            longer,shorter = l1,l2\n",
    "        floor = 0\n",
    "        result = longer\n",
    "        while  shorter.next:\n",
    "            add_sum = longer.val+shorter.val+floor\n",
    "            longer.val = add_sum % 10\n",
    "            floor = add_sum//10\n",
    "            longer = longer.next\n",
    "            shorter = shorter.next\n",
    "        add_sum = longer.val+shorter.val+floor\n",
    "        longer.val = add_sum % 10\n",
    "        floor = add_sum//10\n",
    "        while floor != 0:\n",
    "            if not longer.next:\n",
    "                longer.next = ListNode(floor)\n",
    "                floor = 0\n",
    "            else:\n",
    "                add_sum = longer.next.val + floor\n",
    "                longer.next.val = add_sum % 10\n",
    "                floor = add_sum //10\n",
    "                longer = longer.next\n",
    "        return result"
   ]
  },
  {
   "cell_type": "markdown",
   "metadata": {},
   "source": [
    "### 7. Reverse Integer"
   ]
  },
  {
   "cell_type": "code",
   "execution_count": null,
   "metadata": {},
   "outputs": [],
   "source": [
    "class Solution:\n",
    "    def reverse(self, x: int) -> int:\n",
    "        result = 0\n",
    "        str_x = str(x)\n",
    "        if x < 0:\n",
    "            str_x= str_x[1:]\n",
    "        for i in range(len(str_x)):\n",
    "            result += int(str_x[i])*(10**(i))\n",
    "        if result > 2**31:\n",
    "            return 0\n",
    "        if x<0:      \n",
    "            result *= -1\n",
    "        return result"
   ]
  },
  {
   "cell_type": "code",
   "execution_count": null,
   "metadata": {},
   "outputs": [],
   "source": []
  }
 ],
 "metadata": {
  "kernelspec": {
   "display_name": "Python 3",
   "language": "python",
   "name": "python3"
  },
  "language_info": {
   "codemirror_mode": {
    "name": "ipython",
    "version": 3
   },
   "file_extension": ".py",
   "mimetype": "text/x-python",
   "name": "python",
   "nbconvert_exporter": "python",
   "pygments_lexer": "ipython3",
   "version": "3.7.1"
  }
 },
 "nbformat": 4,
 "nbformat_minor": 2
}
